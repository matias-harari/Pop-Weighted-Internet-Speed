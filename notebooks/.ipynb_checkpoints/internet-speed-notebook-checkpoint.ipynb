{
 "cells": [
  {
   "cell_type": "markdown",
   "id": "46c1483a-195a-48fa-819c-09868da3f923",
   "metadata": {},
   "source": [
    "# Internet Speed"
   ]
  },
  {
   "cell_type": "code",
   "execution_count": 1,
   "id": "b99ccd25-5ba6-42b9-a9cd-92b1a5b0baaa",
   "metadata": {},
   "outputs": [],
   "source": [
    "import pandas as pd\n",
    "import numpy as np\n",
    "import geopandas as gpd\n",
    "import getpass\n",
    "import ipywidgets as widgets\n",
    "from IPython.display import display, HTML\n",
    "import matplotlib.pyplot as plt\n",
    "from matplotlib.colors import ListedColormap, BoundaryNorm\n",
    "from matplotlib.patches import Patch"
   ]
  },
  {
   "cell_type": "code",
   "execution_count": 2,
   "id": "8ba80d03-d286-4f9c-abe5-c280ea0062a7",
   "metadata": {},
   "outputs": [],
   "source": [
    "from sp_vis_functions import update_tables"
   ]
  },
  {
   "cell_type": "code",
   "execution_count": 3,
   "id": "18408da9-70c7-44fb-a651-f6a87f8728cf",
   "metadata": {},
   "outputs": [],
   "source": [
    "username = getpass.getuser()\n",
    "base_path = '/home/matias/GitHub/Pop-Weighted-Internet-Speed'\n",
    "data = gpd.read_file(f'{base_path}/data/summary_by_country.geojson')\n",
    "data['geometry'] = data['geometry'].translate(xoff=-0.000000000100041)  # Fix Rounding Issue in WB Boundaries Data\n",
    "data = data.to_crs('+proj=eqearth +datum=WGS84')"
   ]
  },
  {
   "cell_type": "code",
   "execution_count": 4,
   "id": "3b9fabf0-4d53-458a-8445-1e43b2dbf591",
   "metadata": {},
   "outputs": [],
   "source": [
    "# Create dropdowns\n",
    "years_dropdown = widgets.Dropdown(options=['2023', '2022'], \n",
    "                                  value='2023', description='Year:', \n",
    "                                  style={'description_width': 'initial'})\n",
    "\n",
    "innet_dropdown = widgets.Dropdown(options=['Mobile Internet', 'Fixed Internet'], \n",
    "                                  value='Mobile Internet', description='Internet:', \n",
    "                                  style={'description_width': 'initial'})\n",
    "\n",
    "wbreg_dropdown = widgets.Dropdown(options= ['World'] + data['REGION_WB'].unique().tolist(),\n",
    "                                  value='Sub-Saharan Africa', description='Region:',\n",
    "                                  style={'description_width': 'initial'})"
   ]
  },
  {
   "cell_type": "code",
   "execution_count": 5,
   "id": "c28cadd5-9755-40de-8e9d-a3714c256837",
   "metadata": {
    "scrolled": true
   },
   "outputs": [
    {
     "data": {
      "application/vnd.jupyter.widget-view+json": {
       "model_id": "2c56af9042c74c5985da9845783aec41",
       "version_major": 2,
       "version_minor": 0
      },
      "text/plain": [
       "interactive(children=(Dropdown(description='Year:', options=('2023', '2022'), value='2023'), Dropdown(descript…"
      ]
     },
     "execution_count": 5,
     "metadata": {},
     "output_type": "execute_result"
    }
   ],
   "source": [
    "# Link widgets to update_tables function\n",
    "widgets.interactive(update_tables, df=widgets.fixed(data), year=years_dropdown, internet_type=innet_dropdown, region=wbreg_dropdown)\n"
   ]
  }
 ],
 "metadata": {
  "kernelspec": {
   "display_name": "Python 3 (ipykernel)",
   "language": "python",
   "name": "python3"
  },
  "language_info": {
   "codemirror_mode": {
    "name": "ipython",
    "version": 3
   },
   "file_extension": ".py",
   "mimetype": "text/x-python",
   "name": "python",
   "nbconvert_exporter": "python",
   "pygments_lexer": "ipython3",
   "version": "3.10.12"
  }
 },
 "nbformat": 4,
 "nbformat_minor": 5
}
