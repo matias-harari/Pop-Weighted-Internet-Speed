{
 "cells": [
  {
   "cell_type": "markdown",
   "id": "46c1483a-195a-48fa-819c-09868da3f923",
   "metadata": {},
   "source": [
    "# Internet Speed\n",
    "\n",
    "https://mybinder.org/v2/gh/<username>/<repository>/<branch>?urlpath=voila/render/<notebook>.ipynb\n",
    "\n",
    "https://mybinder.org/v2/gh/matias-harari/Pop-Weighted-Internet-Speed/main?urlpath=voila/render/internet-speed-notebook.ipynb"
   ]
  },
  {
   "cell_type": "code",
   "execution_count": 1,
   "id": "b99ccd25-5ba6-42b9-a9cd-92b1a5b0baaa",
   "metadata": {},
   "outputs": [
    {
     "name": "stdout",
     "output_type": "stream",
     "text": [
      "Current Working Directory: /home/matias/GitHub/Pop-Weighted-Internet-Speed\n"
     ]
    }
   ],
   "source": [
    "import pandas as pd\n",
    "import numpy as np\n",
    "import geopandas as gpd\n",
    "import getpass\n",
    "import ipywidgets as widgets\n",
    "from IPython.display import display, HTML\n",
    "import matplotlib.pyplot as plt\n",
    "from matplotlib.colors import ListedColormap, BoundaryNorm\n",
    "from matplotlib.patches import Patch\n",
    "from adjustText import adjust_text\n",
    "import os\n",
    "\n",
    "username = getpass.getuser()\n",
    "base_path = f'/home/{username}/GitHub/Pop-Weighted-Internet-Speed'\n",
    "os.chdir(base_path)\n",
    "print(\"Current Working Directory:\", os.getcwd())"
   ]
  },
  {
   "cell_type": "code",
   "execution_count": 2,
   "id": "8ba80d03-d286-4f9c-abe5-c280ea0062a7",
   "metadata": {},
   "outputs": [],
   "source": [
    "from sp_vis_functions import update_tables, plot_scatter, plot_histogram"
   ]
  },
  {
   "cell_type": "code",
   "execution_count": 3,
   "id": "18408da9-70c7-44fb-a651-f6a87f8728cf",
   "metadata": {},
   "outputs": [],
   "source": [
    "# Read Data\n",
    "gdf = gpd.read_file(f'{base_path}/raw_data/wb_countries/WB_countries_Admin0_10m.shp')\n",
    "data = pd.read_csv(f'{base_path}/data/internet_speed_summary_by_country.csv')"
   ]
  },
  {
   "cell_type": "code",
   "execution_count": 4,
   "id": "558969d6-f8c6-4376-b0b7-faf78927e7dc",
   "metadata": {},
   "outputs": [],
   "source": [
    "# Reproject GeoDataFrame and merge with data\n",
    "gdf = gdf.rename(columns={'NAME_EN': 'Country'})\n",
    "gdf['geometry'] = gdf['geometry'].translate(xoff=-0.000000000100041)  # Fix Rounding Issue in WB Boundaries Data\n",
    "gdf = gdf.to_crs('+proj=eqearth +datum=WGS84')\n",
    "data = pd.merge(gdf, data, on='Country', how='outer') "
   ]
  },
  {
   "cell_type": "code",
   "execution_count": 5,
   "id": "3b9fabf0-4d53-458a-8445-1e43b2dbf591",
   "metadata": {},
   "outputs": [],
   "source": [
    "# Create dropdowns list for interactive widgets\n",
    "years_dropdown = widgets.Dropdown(options=[2019, 2020, 2021, 2022, 2023, 2024], \n",
    "                                  value=2023, description='Year:', \n",
    "                                  style={'description_width': 'initial'})\n",
    "\n",
    "innet_dropdown = widgets.Dropdown(options=['Mobile Internet', 'Fixed Internet'], \n",
    "                                  value='Fixed Internet', description='Internet:', \n",
    "                                  style={'description_width': 'initial'})\n",
    "\n",
    "wbreg_dropdown = widgets.Dropdown(options= ['World'] + data['REGION_WB'].unique().tolist(),\n",
    "                                  value='Latin America & Caribbean', description='Region:',\n",
    "                                  style={'description_width': 'initial'})"
   ]
  },
  {
   "cell_type": "markdown",
   "id": "6448ba7c-4c80-41a6-bb94-ec35bdabb8da",
   "metadata": {},
   "source": [
    "## Mean Country Speeds"
   ]
  },
  {
   "cell_type": "code",
   "execution_count": 6,
   "id": "c28cadd5-9755-40de-8e9d-a3714c256837",
   "metadata": {
    "scrolled": true
   },
   "outputs": [
    {
     "data": {
      "application/vnd.jupyter.widget-view+json": {
       "model_id": "5ffe52b0ffb54bc1ad48df0f62efbaa9",
       "version_major": 2,
       "version_minor": 0
      },
      "text/plain": [
       "interactive(children=(Dropdown(description='Year:', index=4, options=(2019, 2020, 2021, 2022, 2023, 2024), sty…"
      ]
     },
     "execution_count": 6,
     "metadata": {},
     "output_type": "execute_result"
    }
   ],
   "source": [
    "widgets.interactive(update_tables, df=widgets.fixed(data), year=years_dropdown, internet_type=innet_dropdown, region=wbreg_dropdown)"
   ]
  },
  {
   "cell_type": "markdown",
   "id": "54455461-9d7b-43a3-818b-e68ad3d9d7c8",
   "metadata": {},
   "source": [
    "## Population Weights Matter"
   ]
  },
  {
   "cell_type": "code",
   "execution_count": 7,
   "id": "cc3a015c-9fc6-4050-8434-8348893882e1",
   "metadata": {},
   "outputs": [
    {
     "data": {
      "application/vnd.jupyter.widget-view+json": {
       "model_id": "f4eb8a28daf5490b8247a46e856ec40e",
       "version_major": 2,
       "version_minor": 0
      },
      "text/plain": [
       "interactive(children=(Dropdown(description='Year:', index=4, options=(2019, 2020, 2021, 2022, 2023, 2024), sty…"
      ]
     },
     "execution_count": 7,
     "metadata": {},
     "output_type": "execute_result"
    }
   ],
   "source": [
    "widgets.interactive(plot_scatter, df=widgets.fixed(data), year=years_dropdown, internet_type=innet_dropdown, region=wbreg_dropdown)"
   ]
  },
  {
   "cell_type": "code",
   "execution_count": null,
   "id": "2cb638ca-0c80-49c5-97cc-bb1ec56e1cca",
   "metadata": {},
   "outputs": [],
   "source": [
    "widgets.interactive(plot_histogram, df=widgets.fixed(data), year=years_dropdown, internet_type=innet_dropdown, region=wbreg_dropdown)"
   ]
  }
 ],
 "metadata": {
  "kernelspec": {
   "display_name": "Python 3 (ipykernel)",
   "language": "python",
   "name": "python3"
  },
  "language_info": {
   "codemirror_mode": {
    "name": "ipython",
    "version": 3
   },
   "file_extension": ".py",
   "mimetype": "text/x-python",
   "name": "python",
   "nbconvert_exporter": "python",
   "pygments_lexer": "ipython3",
   "version": "3.10.12"
  }
 },
 "nbformat": 4,
 "nbformat_minor": 5
}
